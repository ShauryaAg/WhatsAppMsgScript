{
 "cells": [
  {
   "cell_type": "code",
   "execution_count": 30,
   "metadata": {},
   "outputs": [],
   "source": [
    "from selenium import webdriver\n",
    "from selenium.webdriver.common.keys import Keys"
   ]
  },
  {
   "cell_type": "code",
   "execution_count": 2,
   "metadata": {},
   "outputs": [],
   "source": [
    "# Change the executable_path to the correct path of your chromedriver.exe\n",
    "driver = webdriver.Chrome(\n",
    "    executable_path='D:\\Documents\\CodingBlocks\\CNinjas\\Selenium\\chromedriver_win32\\chromedriver.exe')\n",
    "driver.get('https://web.whatsapp.com/')"
   ]
  },
  {
   "cell_type": "code",
   "execution_count": 36,
   "metadata": {},
   "outputs": [],
   "source": [
    "name = input(\"Enter the name of person/group: \")\n",
    "msg = input(\"Enter message to be sent: \")\n",
    "count = int(input(\"Enter count: \"))\n",
    "\n",
    "msg = msg.split(' ')"
   ]
  },
  {
   "cell_type": "code",
   "execution_count": 4,
   "metadata": {},
   "outputs": [],
   "source": [
    "driver.implicitly_wait(5)"
   ]
  },
  {
   "cell_type": "code",
   "execution_count": 10,
   "metadata": {},
   "outputs": [],
   "source": [
    "user = driver.find_element_by_xpath('//span[@title = \"{}\"]'.format(name))\n",
    "user.click()"
   ]
  },
  {
   "cell_type": "code",
   "execution_count": 11,
   "metadata": {},
   "outputs": [],
   "source": [
    "msg_box = driver.find_element_by_xpath(\n",
    "    '//*[@id=\"main\"]/footer/div[1]/div[2]/div/div[2]')"
   ]
  },
  {
   "cell_type": "code",
   "execution_count": 37,
   "metadata": {},
   "outputs": [],
   "source": [
    "for i in range(count):\n",
    "    for word in msg:\n",
    "        msg_box.send_keys(word)\n",
    "        if '@' in word:\n",
    "            msg_box.send_keys(Keys.TAB)\n",
    "    send_button = driver.find_element_by_xpath('//button[@class=\"_1U1xa\"]')\n",
    "    send_button.click()"
   ]
  }
 ],
 "metadata": {
  "kernelspec": {
   "display_name": "Python 3",
   "language": "python",
   "name": "python3"
  },
  "language_info": {
   "codemirror_mode": {
    "name": "ipython",
    "version": 3
   },
   "file_extension": ".py",
   "mimetype": "text/x-python",
   "name": "python",
   "nbconvert_exporter": "python",
   "pygments_lexer": "ipython3",
   "version": "3.7.4"
  }
 },
 "nbformat": 4,
 "nbformat_minor": 4
}